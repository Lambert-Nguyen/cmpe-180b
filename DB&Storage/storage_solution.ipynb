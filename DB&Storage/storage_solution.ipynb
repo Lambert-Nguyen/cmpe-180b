{
 "cells": [
  {
   "cell_type": "markdown",
   "id": "08761651",
   "metadata": {},
   "source": [
    "# Playing with a small DB and storage"
   ]
  },
  {
   "cell_type": "markdown",
   "id": "3d01fac7",
   "metadata": {},
   "source": [
    "Setup visualization libraries"
   ]
  },
  {
   "cell_type": "code",
   "execution_count": 5,
   "id": "027d63e4",
   "metadata": {},
   "outputs": [],
   "source": [
    "def displaySectionCaption(caption, color='coral'):\n",
    "  html_string = f'<hr><strong><p style=\"color:{color};font-size:16px;\">{caption}</p.</strong>'\n",
    "  display(HTML(html_string))"
   ]
  },
  {
   "cell_type": "markdown",
   "id": "62e3bfc5",
   "metadata": {},
   "source": [
    "We study a simplified IO model for HDDs and SSDs in CMPE-138. The model will work well in practice, for our query optimzation and data layout problems. "
   ]
  },
  {
   "cell_type": "code",
   "execution_count": 8,
   "id": "96de9ba5",
   "metadata": {},
   "outputs": [],
   "source": [
    "import math\n",
    "from math import ceil, log\n",
    "\n",
    "# We'll use MBs -- for basic i to MBs\n",
    "(MB, GB, TB, KB, Bytes) = (1.0, 1024.0, 1024.0*1024.0,\n",
    "                           1.0/1024.0, 1.0/(1024.0*1024))\n",
    "\n",
    "# 64 MB-Blocks (default)\n",
    "PageSizeMB = 64.0*MB\n",
    "size_of_types = {'int64': 8, 'int32': 4, 'double': 8, 'char': 1} # in bytes\n",
    "\n",
    "class IOdevice:\n",
    "  def __init__(self, accessTime, scanSpeed, C_w):\n",
    "    self.C_r = 1.0  # Cost of reads\n",
    "    self.C_w = C_w  # Cost of writes relative to reads\n",
    "    self.accessTime = accessTime\n",
    "    self.scanSpeed = scanSpeed\n",
    "\n",
    "  # Read costs: Simple IOcost model using Access time + Scan speeds\n",
    "  def read_pages_cost(self, numPages):\n",
    "    # Assume you need to read full pages. (i.e., no partial pages)\n",
    "    numPages = math.ceil(numPages)\n",
    "    tsecs = numPages*self.accessTime  # time to access\n",
    "    tsecs += numPages*PageSizeMB/self.scanSpeed # time to scan\n",
    "    return (tsecs)\n",
    "\n",
    "  def write_pages_cost(self, numPages):\n",
    "    return self.C_w*self.read_pages_cost(numPages)\n",
    "\n",
    "# Example IO devices in 2024\n",
    "# Access and Scan speeds in [seconds, MBps], Cw cost of write vs reads.\n",
    "ram1 = IOdevice(100*pow(10, -9), 100.0*1024, 1.0)\n",
    "ssd1 = IOdevice(10*pow(10, -6), 5.0*1024, 1.0) # 10 microsecs, 5GBps\n",
    "hdd1 = IOdevice(10*pow(10, -3), 100.0, 1.0) # 10 millissecs, 100 MBps\n",
    "# machine to machine over network (modeling a network as an IO device)\n",
    "m2m1 = IOdevice(10*pow(10, -6), 5.0*1024, 1.0) # 1 micro, 5 GBps\n",
    "\n",
    "IOdevices1 = {'HDD': hdd1, 'SSD': ssd1, 'RAM': ram1}"
   ]
  },
  {
   "cell_type": "code",
   "execution_count": 10,
   "id": "702b8e94",
   "metadata": {},
   "outputs": [],
   "source": [
    "\"\"\"\n",
    "Basic physical table\n",
    "\"\"\"\n",
    "class Table:\n",
    "  def __init__(self, sizeInMBs, rowSize):\n",
    "    self.sizeInMBs = sizeInMBs\n",
    "    self.rowSize = rowSize\n",
    "    self.numRows = ceil(self.sizeInMBs/self.rowSize)\n",
    "\n",
    "    # self.numTuples = numTuples\n",
    "    self.isSorted = False\n",
    "    self.isHPed = False\n",
    "\n",
    "  # P(R) -- number of Pages for table\n",
    "  def P(self):\n",
    "    P = ceil(self.sizeInMBs/PageSizeMB)\n",
    "    return P\n",
    "  def RowSize(self):\n",
    "    return self.rowSize\n",
    "  def T(self):\n",
    "    return self.numRows\n",
    "  def SizeInMBs(self):\n",
    "    return self.sizeInMBs\n",
    "\n",
    "  # Keeping track of is table sorted, HPed, or neither (default)\n",
    "  def Sort(self):\n",
    "    self.isSorted = True\n",
    "    self.isHPed = False\n",
    "  def HP(self):\n",
    "    self.isSorted = False\n",
    "    self.isHPed = True\n",
    "  def Reset(self):\n",
    "    self.isSorted = False\n",
    "    self.isHPed = False\n"
   ]
  },
  {
   "cell_type": "markdown",
   "id": "3be0bfa1",
   "metadata": {},
   "source": [
    "Exercises: "
   ]
  },
  {
   "cell_type": "code",
   "execution_count": 30,
   "id": "2ce4bbb1",
   "metadata": {},
   "outputs": [
    {
     "ename": "TypeError",
     "evalue": "'float' object is not callable",
     "output_type": "error",
     "traceback": [
      "\u001b[0;31m---------------------------------------------------------------------------\u001b[0m",
      "\u001b[0;31mTypeError\u001b[0m                                 Traceback (most recent call last)",
      "Cell \u001b[0;32mIn[30], line 11\u001b[0m\n\u001b[1;32m      9\u001b[0m songs_sizeinMBs \u001b[38;5;241m=\u001b[39m songs_rowSize \u001b[38;5;241m*\u001b[39m songs_numRows \u001b[38;5;241m/\u001b[39m MB\n\u001b[1;32m     10\u001b[0m SongsTable \u001b[38;5;241m=\u001b[39m Table(songs_sizeinMBs, \u001b[38;5;241m1024\u001b[39m\u001b[38;5;241m*\u001b[39mBytes)\n\u001b[0;32m---> 11\u001b[0m \u001b[38;5;28mprint\u001b[39m(\u001b[38;5;124mf\u001b[39m\u001b[38;5;124m'\u001b[39m\u001b[38;5;124mProblems 1: \u001b[39m\u001b[38;5;132;01m{\u001b[39;00mSongsTable\u001b[38;5;241m.\u001b[39msizeInMBs()\u001b[38;5;132;01m=}\u001b[39;00m\u001b[38;5;124m (MB), \u001b[39m\u001b[38;5;132;01m{\u001b[39;00mSongsTable\u001b[38;5;241m.\u001b[39mP()\u001b[38;5;132;01m=}\u001b[39;00m\u001b[38;5;124m pages\u001b[39m\u001b[38;5;124m'\u001b[39m)\n\u001b[1;32m     14\u001b[0m \u001b[38;5;124;03m\"\"\"Problem 2: Read costs\u001b[39;00m\n\u001b[1;32m     15\u001b[0m \u001b[38;5;124;03m# Compute the cost in seconds to read 100 pages from the SongsTable\"\"\"\u001b[39;00m\n\u001b[1;32m     16\u001b[0m \u001b[38;5;28mprint\u001b[39m(\u001b[38;5;124mf\u001b[39m\u001b[38;5;124m\"\u001b[39m\u001b[38;5;124mRead cost (HDD): \u001b[39m\u001b[38;5;132;01m{\u001b[39;00mram1\u001b[38;5;241m.\u001b[39mread_pages_cost(\u001b[38;5;241m100\u001b[39m)\u001b[38;5;132;01m=}\u001b[39;00m\u001b[38;5;124m sec\u001b[39m\u001b[38;5;124m\"\u001b[39m)\n",
      "\u001b[0;31mTypeError\u001b[0m: 'float' object is not callable"
     ]
    }
   ],
   "source": [
    "# Spotify Songs Table [songid: int64, title: text, name: text, genre: text]\n",
    "#    -- Size of row = 8 bytes (int64) + avg size of title+name+genre.\n",
    "#    -- Assume avg row size = 1024 Bytes\n",
    "songs_rowSize = 1024.0*Bytes\n",
    "songs_numRows = 500000000.0 # 500 million songs\n",
    "\n",
    "\"\"\"Problem 1:\n",
    "Calculate the size (MBs) of SongsTable, and num pages.\"\"\"\n",
    "songs_sizeinMBs = songs_rowSize * songs_numRows / MB\n",
    "SongsTable = Table(songs_sizeinMBs, 1024*Bytes)\n",
    "print(f'Problems 1: {SongsTable.sizeInMBs()=} (MB), {SongsTable.P()=} pages')\n",
    "\n",
    "\n",
    "\"\"\"Problem 2: Read costs\n",
    "# Compute the cost in seconds to read 100 pages from the SongsTable\"\"\"\n",
    "print(f\"Read cost (HDD): {ram1.read_pages_cost(100)=} sec\")\n",
    "print(f\"Read cost (SSD): {ssd1.read_pages_cost(100)=} sec\")\n",
    "print(f\"Read cost (RAM): {hhd1.read_pages_cost(100)=} sec\")\n",
    "\n",
    "\n",
    "\n",
    "\"\"\"Problem 3: Effect of caching\n",
    "Read 200 pages. 1st check RAM.\n",
    "- Cache hit of 90% in RAM.\n",
    "# - For RAM cache misses (the other 10%), 75% are in SSD and 25% are in HDD.\"\"\"\n",
    "cost = ram1.read_pages_cost(200)\n",
    "cost += ssd1.read_pages_cost(0.1*200*0.75)\n",
    "cost += hdd1.read_pages_cost(0.1*200*0.25)\n",
    "\n",
    "print(f'Problem3: 90% cache hit rate for 200 pages (secs): {cost}')"
   ]
  },
  {
   "cell_type": "code",
   "execution_count": null,
   "id": "8cd42dfe",
   "metadata": {},
   "outputs": [],
   "source": []
  },
  {
   "cell_type": "code",
   "execution_count": null,
   "id": "e3617135-cdb4-4fa0-991d-04ce7f9f293e",
   "metadata": {},
   "outputs": [],
   "source": []
  }
 ],
 "metadata": {
  "kernelspec": {
   "display_name": "Python [conda env:base] *",
   "language": "python",
   "name": "conda-base-py"
  },
  "language_info": {
   "codemirror_mode": {
    "name": "ipython",
    "version": 3
   },
   "file_extension": ".py",
   "mimetype": "text/x-python",
   "name": "python",
   "nbconvert_exporter": "python",
   "pygments_lexer": "ipython3",
   "version": "3.12.7"
  }
 },
 "nbformat": 4,
 "nbformat_minor": 5
}
