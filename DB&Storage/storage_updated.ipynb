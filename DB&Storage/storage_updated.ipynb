{
 "cells": [
  {
   "cell_type": "markdown",
   "id": "08761651",
   "metadata": {},
   "source": [
    "# Playing with a small DB and storage"
   ]
  },
  {
   "cell_type": "markdown",
   "id": "3d01fac7",
   "metadata": {},
   "source": [
    "Setup visualization libraries"
   ]
  },
  {
   "cell_type": "code",
   "execution_count": 2,
   "id": "027d63e4",
   "metadata": {},
   "outputs": [],
   "source": [
    "def displaySectionCaption(caption, color='coral'):\n",
    "  html_string = f'<hr><strong><p style=\"color:{color};font-size:16px;\">{caption}</p.</strong>'\n",
    "  display(HTML(html_string))"
   ]
  },
  {
   "cell_type": "markdown",
   "id": "62e3bfc5",
   "metadata": {},
   "source": [
    "We study a simplified IO model for HDDs and SSDs in CMPE-138. The model will work well in practice, for our query optimzation and data layout problems. "
   ]
  },
  {
   "cell_type": "code",
   "execution_count": 4,
   "id": "96de9ba5",
   "metadata": {},
   "outputs": [],
   "source": [
    "import math\n",
    "from math import ceil, log\n",
    "\n",
    "# We'll use MBs -- for basic i to MBs\n",
    "(MB, GB, TB, KB, Bytes) = (1.0, 1024.0, 1024.0*1024.0,\n",
    "                           1.0/1024.0, 1.0/(1024.0*1024))\n",
    "\n",
    "# 64 MB-Blocks (default)\n",
    "PageSizeMB = 64.0*MB\n",
    "size_of_types = {'int64': 8, 'int32': 4, 'double': 8, 'char': 1} # in bytes\n",
    "\n",
    "class IOdevice:\n",
    "  def __init__(self, accessTime, scanSpeed, C_w):\n",
    "    self.C_r = 1.0  # Cost of reads\n",
    "    self.C_w = C_w  # Cost of writes relative to reads\n",
    "    self.accessTime = accessTime\n",
    "    self.scanSpeed = scanSpeed\n",
    "\n",
    "  # Read costs: Simple IOcost model using Access time + Scan speeds\n",
    "  def read_pages_cost(self, numPages):\n",
    "    # Assume you need to read full pages. (i.e., no partial pages)\n",
    "    numPages = math.ceil(numPages)\n",
    "    tsecs = numPages*self.accessTime  # time to access\n",
    "    tsecs += numPages*PageSizeMB/self.scanSpeed # time to scan\n",
    "    return (tsecs)\n",
    "\n",
    "  def write_pages_cost(self, numPages):\n",
    "    return self.C_w*self.read_pages_cost(numPages)\n",
    "\n",
    "# Example IO devices in 2024\n",
    "# Access and Scan speeds in [seconds, MBps], Cw cost of write vs reads.\n",
    "ram1 = IOdevice(100*pow(10, -9), 100.0*1024, 1.0)\n",
    "ssd1 = IOdevice(10*pow(10, -6), 5.0*1024, 1.0) # 10 microsecs, 5GBps\n",
    "hdd1 = IOdevice(10*pow(10, -3), 100.0, 1.0) # 10 millissecs, 100 MBps\n",
    "# machine to machine over network (modeling a network as an IO device)\n",
    "m2m1 = IOdevice(10*pow(10, -6), 5.0*1024, 1.0) # 1 micro, 5 GBps\n",
    "\n",
    "IOdevices1 = {'HDD': hdd1, 'SSD': ssd1, 'RAM': ram1}"
   ]
  },
  {
   "cell_type": "code",
   "execution_count": 6,
   "id": "702b8e94",
   "metadata": {},
   "outputs": [],
   "source": [
    "\"\"\"\n",
    "Basic physical table\n",
    "\"\"\"\n",
    "class Table:\n",
    "  def __init__(self, sizeInMBs, rowSize):\n",
    "    self.sizeInMBs = sizeInMBs\n",
    "    self.rowSize = rowSize\n",
    "    self.numRows = ceil(self.sizeInMBs/self.rowSize)\n",
    "\n",
    "    # self.numTuples = numTuples\n",
    "    self.isSorted = False\n",
    "    self.isHPed = False\n",
    "\n",
    "  # P(R) -- number of Pages for table\n",
    "  def P(self):\n",
    "    P = ceil(self.sizeInMBs/PageSizeMB)\n",
    "    return P\n",
    "  def RowSize(self):\n",
    "    return self.rowSize\n",
    "  def T(self):\n",
    "    return self.numRows\n",
    "  def SizeInMBs(self):\n",
    "    return self.sizeInMBs\n",
    "\n",
    "  # Keeping track of is table sorted, HPed, or neither (default)\n",
    "  def Sort(self):\n",
    "    self.isSorted = True\n",
    "    self.isHPed = False\n",
    "  def HP(self):\n",
    "    self.isSorted = False\n",
    "    self.isHPed = True\n",
    "  def Reset(self):\n",
    "    self.isSorted = False\n",
    "    self.isHPed = False\n"
   ]
  },
  {
   "cell_type": "markdown",
   "id": "3be0bfa1",
   "metadata": {},
   "source": [
    "Exercises: "
   ]
  },
  {
   "cell_type": "code",
   "execution_count": null,
   "id": "2ce4bbb1",
   "metadata": {},
   "outputs": [],
   "source": [
    "\n",
    "# Define SongsTable\n",
    "songs_row_size = 1024  # Bytes\n",
    "songs_num_rows = 500_000_000  # 500 million songs\n",
    "songs_table_size_MB = (songs_row_size * songs_num_rows) / (1024 * 1024)  # Convert to MB\n",
    "\n",
    "# Create Table object for SongsTable\n",
    "songsTable = Table(songs_table_size_MB, songs_row_size)\n",
    "\n",
    "# Calculate the number of pages\n",
    "num_pages = songsTable.P()\n",
    "print(f\"SongsTable Size: {songs_table_size_MB:.2f} MB, Number of Pages: {num_pages}\")\n"
   ]
  },
  {
   "cell_type": "code",
   "execution_count": null,
   "id": "8cd42dfe",
   "metadata": {},
   "outputs": [],
   "source": []
  }
 ],
 "metadata": {
  "kernelspec": {
   "display_name": "Python [conda env:base] *",
   "language": "python",
   "name": "conda-base-py"
  },
  "language_info": {
   "codemirror_mode": {
    "name": "ipython",
    "version": 3
   },
   "file_extension": ".py",
   "mimetype": "text/x-python",
   "name": "python",
   "nbconvert_exporter": "python",
   "pygments_lexer": "ipython3",
   "version": "3.12.7"
  }
 },
 "nbformat": 4,
 "nbformat_minor": 5
}
