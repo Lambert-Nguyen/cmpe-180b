{
 "cells": [
  {
   "cell_type": "markdown",
   "metadata": {
    "id": "H-hCXFlniEls"
   },
   "source": [
    "#  In-class activity - Nested queries"
   ]
  },
  {
   "cell_type": "markdown",
   "metadata": {
    "id": "043jsYf4iElt"
   },
   "source": [
    "## Let's setup the SQL environment\n",
    "\n"
   ]
  },
  {
   "cell_type": "code",
   "execution_count": null,
   "metadata": {
    "colab": {
     "base_uri": "https://localhost:8080/"
    },
    "id": "41kaIEYGiElu",
    "outputId": "d14e5294-4e2d-4513-b27d-8ee3346e7db1"
   },
   "outputs": [],
   "source": [
    "#Install pysqlite3 for python and import pandas to use later\n",
    "#!pip install pysqlite3\n",
    "from sqlite3 import dbapi2 as sqlite3\n",
    "print(sqlite3.sqlite_version)\n",
    "import pandas as pd\n",
    "from IPython.display import display, HTML"
   ]
  },
  {
   "cell_type": "markdown",
   "metadata": {
    "id": "6V7_8t2UiElv"
   },
   "source": [
    "Let's define some helper functions for running queries and printing results"
   ]
  },
  {
   "cell_type": "code",
   "execution_count": null,
   "metadata": {
    "id": "-84YiUl9iElv"
   },
   "outputs": [],
   "source": [
    "dbname = \"music_streaming4.db\"\n",
    "\n",
    "def printSqlResults(cursor, tblName):\n",
    "  try:\n",
    "    df = pd.DataFrame(cursor.fetchall(), columns=[i[0] for i in cursor.description])\n",
    "    display(HTML(\"<b><font color=Green> \" + tblName + \"</font></b>\" + df.to_html(index=False)))\n",
    "  except:\n",
    "    pass\n",
    "\n",
    "def runSql(caption, query):\n",
    "  conn = sqlite3.connect(dbname) # Connect to the database\n",
    "  cursor = conn.cursor() # Create a cursor (think: it's like a \"pointer\")\n",
    "  cursor.execute(query) # Execute the query\n",
    "  printSqlResults(cursor, caption) # Print the results\n",
    "  conn.close()\n",
    "\n",
    "def runStepByStepSql(query, fromline):\n",
    "  lines = query.strip().split('\\n')\n",
    "  for lineidx in range(fromline, len(lines)):\n",
    "    partial_query = '\\n'.join(lines[:lineidx])\n",
    "    caption = 'Query till line:' +  partial_query\n",
    "    runSql(caption, partial_query + ';')"
   ]
  },
  {
   "cell_type": "markdown",
   "metadata": {
    "collapsed": true,
    "id": "-JIhphIliElv"
   },
   "source": [
    "Let's setup a Schema and insert some data"
   ]
  },
  {
   "cell_type": "code",
   "execution_count": null,
   "metadata": {
    "id": "JQqsRzIoiElv"
   },
   "outputs": [],
   "source": [
    "# Connect to database (creates the file if it doesn't exist)\n",
    "\"\"\"\n",
    "1. Connections: A connection represents a connection to a database through\n",
    "which we can execute SQL queries. The dbname here specifies the database.\n",
    "In SQLlite, if the DB doesn't exist, it will be created.\n",
    "2. Cursors: A cursor is an object associated with a database connection.\n",
    "It allows you to execute SQL queries, fetch query results.\n",
    "\"\"\"\n",
    "conn = sqlite3.connect(dbname)\n",
    "cursor = conn.cursor()\n",
    "\n",
    "# Create the Users table\n",
    "cursor.execute(\"\"\"\n",
    "CREATE TABLE IF NOT EXISTS Users (\n",
    "    user_id INTEGER PRIMARY KEY,\n",
    "    name VARCHAR(100) NOT NULL,\n",
    "    email VARCHAR(100) NOT NULL UNIQUE\n",
    ");\n",
    "\"\"\")\n",
    "\n",
    "# Create the Songs table\n",
    "cursor.execute(\"\"\"\n",
    "CREATE TABLE IF NOT EXISTS Songs (\n",
    "    song_id INTEGER PRIMARY KEY,\n",
    "    title VARCHAR(100) NOT NULL,\n",
    "    artist VARCHAR(100) NOT NULL,\n",
    "    genre VARCHAR(100)\n",
    ");\n",
    "\"\"\")\n",
    "\n",
    "# Create the Listens table\n",
    "cursor.execute(\"\"\"\n",
    "CREATE TABLE IF NOT EXISTS Listens (\n",
    "    listen_id INTEGER PRIMARY KEY,\n",
    "    user_id INTEGER NOT NULL,\n",
    "    song_id INTEGER NOT NULL,\n",
    "    rating FLOAT,\n",
    "    listen_time TIMESTAMP,\n",
    "    FOREIGN KEY (user_id) REFERENCES Users(user_id),\n",
    "    FOREIGN KEY (song_id) REFERENCES Songs(song_id)\n",
    ");\n",
    "\"\"\")\n",
    "\n",
    "# Create the recommendations table\n",
    "cursor.execute(\"\"\"\n",
    "CREATE TABLE IF NOT EXISTS Recommendations (\n",
    "    user_id INTEGER NOT NULL,\n",
    "    song_id INTEGER NOT NULL,\n",
    "    recommendation_id not NULL,\n",
    "    recommendation_time TIMESTAMP,\n",
    "    FOREIGN KEY (user_id) REFERENCES Users(user_id),\n",
    "    FOREIGN KEY (song_id) REFERENCES Songs(song_id)\n",
    ");\n",
    "\"\"\")\n",
    "\n",
    "# Commit changes and close the connection\n",
    "conn.commit()\n",
    "conn.close()"
   ]
  },
  {
   "cell_type": "code",
   "execution_count": null,
   "metadata": {
    "colab": {
     "base_uri": "https://localhost:8080/",
     "height": 886
    },
    "id": "vVTvHS3ZiElw",
    "outputId": "83b940ae-8822-4e5e-b11f-eb8e95efa728"
   },
   "outputs": [],
   "source": [
    "# Connect to database again and insert sample data\n",
    "conn = sqlite3.connect(dbname)\n",
    "sqlite3.enable_callback_tracebacks(True)\n",
    "\n",
    "cursor = conn.cursor()\n",
    "cursor.execute(\"delete from Songs;\")\n",
    "cursor.execute(\"delete from Users;\")\n",
    "cursor.execute(\"delete from Listens;\")\n",
    "cursor.execute(\"delete from Recommendations;\")\n",
    "\n",
    "# Insert sample users\n",
    "cursor.execute(\"\"\"\n",
    "INSERT INTO Users (user_id, name, email)\n",
    "VALUES\n",
    "    (1, 'Mickey', 'mickey@example.com'),\n",
    "    (2, 'Minnie', 'minnie@example.com'),\n",
    "    (3, 'Daffy', 'daffy@example.com'),\n",
    "    (4, 'Pluto', 'pluto@example.com');\n",
    "\"\"\")\n",
    "\n",
    "# Insert sample songs from Taylor Swift, Ed Sheeran, Beatles\n",
    "cursor.execute(\"\"\"\n",
    "INSERT INTO Songs (song_id, title, artist, genre)\n",
    "VALUES\n",
    "    (1, 'Evermore', 'Taylor Swift', 'Pop'),\n",
    "    (2, 'Willow', 'Taylor Swift', 'Pop'),\n",
    "    (3, 'Shape of You', 'Ed Sheeran', 'Rock'),\n",
    "    (4, 'Photograph', 'Ed Sheeran', 'Rock'),\n",
    "    (5, 'Shivers', 'Ed Sheeran', 'Rock'),\n",
    "    (6, 'Yesterday', 'Beatles', 'Classic'),\n",
    "    (7, 'Yellow Submarine', 'Beatles', 'Classic'),\n",
    "    (8, 'Hey Jude', 'Beatles', 'Classic'),\n",
    "    (9, 'Bad Blood', 'Taylor Swift', 'Rock'),\n",
    "    (10, 'DJ Mix', 'DJ', NULL);\n",
    "\"\"\")\n",
    "\n",
    "# Insert sample listens\n",
    "cursor.execute(\"\"\"\n",
    "INSERT INTO Listens (listen_id, user_id, song_id, rating)\n",
    "VALUES\n",
    "    (1, 1, 1, 4.5),\n",
    "    (2, 1, 2, 4.2),\n",
    "    (3, 1, 6, 3.9),\n",
    "    (4, 2, 2, 4.7),\n",
    "    (5, 2, 7, 4.6),\n",
    "    (6, 2, 8, 3.9),\n",
    "    (7, 3, 1, 2.9),\n",
    "    (8, 3, 2, 4.9),\n",
    "    (9, 3, 6, NULL);\n",
    "\"\"\")\n",
    "# Commit changes and close the connection\n",
    "conn.commit()\n",
    "conn.close()\n",
    "\n",
    "runSql('Users', \"select * from Users;\")\n",
    "runSql('Songs', \"select * from Songs;\")\n",
    "runSql('Listens', \"select * from Listens;\")"
   ]
  },
  {
   "cell_type": "markdown",
   "metadata": {
    "id": "JAJCGQm2jygC"
   },
   "source": [
    "# Nested queries"
   ]
  },
  {
   "cell_type": "code",
   "execution_count": null,
   "metadata": {},
   "outputs": [],
   "source": [
    "\"\"\" Goal: Learn basic forms of sub-queries\n",
    "Sub-queries: Queries within queries\n",
    "\"\"\"\n",
    "\n",
    "qry_listens_by_userid = \"\"\"\n",
    "-- titles and artists of songs that have been listened to by user_id = 1).\n",
    "SELECT title, artist\n",
    "FROM Songs\n",
    "WHERE song_id IN (SELECT song_id FROM Listens WHERE user_id = 1);\n",
    "\"\"\"\n",
    "runSql('Songs listened to by user_id=1', qry_listens_by_userid )\n",
    "\n",
    "qry_unlistened_songs = \"\"\"\n",
    "-- Retrieve songs that have not been listened to by user with ID 1\n",
    "SELECT *\n",
    "FROM Songs\n",
    "WHERE song_id NOT IN (\n",
    "SELECT song_id\n",
    "FROM Listens\n",
    "WHERE user_id = 1\n",
    ");\"\"\"\n",
    "runSql('Unlistened Songs', qry_unlistened_songs)\n",
    "\n",
    "qry_unlistened_songs = \"\"\"\n",
    "-- Retrieve Pop songs that have been listened to by user with ID 1\n",
    "SELECT *\n",
    "FROM Songs\n",
    "WHERE song_id IN (\n",
    "SELECT song_id\n",
    "FROM Listens\n",
    "WHERE user_id = 1 and Songs.genre = 'Pop'\n",
    ");\"\"\"\n",
    "runSql('Pop Songs listened by user 1', qry_unlistened_songs)"
   ]
  },
  {
   "cell_type": "markdown",
   "metadata": {},
   "source": [
    "Example of using EXISTS"
   ]
  },
  {
   "cell_type": "code",
   "execution_count": null,
   "metadata": {},
   "outputs": [],
   "source": [
    "\"\"\"EXISTS: Checks if a set is empty (or has something in it)\n",
    "Often cheaper than using IN, because it needs to check for set is empty or not\n",
    "\"\"\"\n",
    "qry_listened_songs = \"\"\"\n",
    "-- Titles and artists of songs with >= 1 listen recorded in the Listens table.\n",
    "SELECT Songs.title, Songs.artist\n",
    "FROM Songs\n",
    "WHERE EXISTS (\n",
    "  SELECT Listens.song_id\n",
    "  FROM Listens\n",
    "  WHERE Listens.song_id = Songs.song_id\n",
    ");\n",
    "\"\"\"\n",
    "runSql('Songs someone listened to', qry_listened_songs)"
   ]
  },
  {
   "cell_type": "markdown",
   "metadata": {},
   "source": [
    "TO DO: Write a query that: retrieves songs by Taylor Swift with an avg-rating higher than \n",
    "                           the avg-rating of songs in the same genre"
   ]
  },
  {
   "cell_type": "code",
   "execution_count": null,
   "metadata": {},
   "outputs": [],
   "source": [
    "qry_TS_better_rated_ingenre = \"\"\"\n",
    "-- Songs by Taylor Swift with an avg-rating higher than\n",
    "-- the avg-rating of songs in the same genre\n",
    "SELECT distinct S1.title, S1.genre, AVG(L1.rating)\n",
    "FROM Listens L1\n",
    "JOIN Songs S1 ON L1.song_id = S1.song_id\n",
    "WHERE S1.artist = 'Taylor Swift'\n",
    "-- Group to calculate the avg-rating for each song\n",
    "GROUP BY S1.song_id, S1.genre, S1.title\n",
    "HAVING AVG(L1.rating) > (\n",
    "    -- Subquery: L2.rating is avg-rating of all songs in S1.genre\n",
    "    SELECT AVG(L2.rating)\n",
    "    FROM Listens L2\n",
    "    JOIN Songs S2 ON L2.song_id = S2.song_id\n",
    "    WHERE S2.genre = S1.genre\n",
    ");\n",
    "\"\"\"\n",
    "runSql('Songs by TS higher rated than average in their genre',\n",
    "       qry_TS_better_rated_ingenre)\n"
   ]
  }
 ],
 "metadata": {
  "colab": {
   "provenance": []
  },
  "kernelspec": {
   "display_name": "Python 3 (ipykernel)",
   "language": "python",
   "name": "python3"
  },
  "language_info": {
   "codemirror_mode": {
    "name": "ipython",
    "version": 3
   },
   "file_extension": ".py",
   "mimetype": "text/x-python",
   "name": "python",
   "nbconvert_exporter": "python",
   "pygments_lexer": "ipython3",
   "version": "3.11.1"
  }
 },
 "nbformat": 4,
 "nbformat_minor": 1
}
